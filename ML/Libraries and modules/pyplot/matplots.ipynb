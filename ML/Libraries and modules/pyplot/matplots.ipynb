{
          "cells": [
                    {
                              "cell_type": "code",
                              "execution_count": 1,
                              "metadata": {},
                              "outputs": [],
                              "source": [
                                        "import matplotlib.pyplot as plt\n",
                                        "import numpy as np"
                              ]
                    },
                    {
                              "cell_type": "code",
                              "execution_count": 2,
                              "metadata": {},
                              "outputs": [
                                        {
                                                  "name": "stdout",
                                                  "output_type": "stream",
                                                  "text": [
                                                            "['Solarize_Light2', '_classic_test_patch', '_mpl-gallery', '_mpl-gallery-nogrid', 'bmh', 'classic', 'dark_background', 'fast', 'fivethirtyeight', 'ggplot', 'grayscale', 'seaborn', 'seaborn-bright', 'seaborn-colorblind', 'seaborn-dark', 'seaborn-dark-palette', 'seaborn-darkgrid', 'seaborn-deep', 'seaborn-muted', 'seaborn-notebook', 'seaborn-paper', 'seaborn-pastel', 'seaborn-poster', 'seaborn-talk', 'seaborn-ticks', 'seaborn-white', 'seaborn-whitegrid', 'tableau-colorblind10']\n"
                                                  ]
                                        }
                              ],
                              "source": [
                                        "print(plt.style.available)"
                              ]
                    },
                    {
                              "cell_type": "code",
                              "execution_count": 3,
                              "metadata": {},
                              "outputs": [
                                        {
                                                  "name": "stdout",
                                                  "output_type": "stream",
                                                  "text": [
                                                            "[0 1 2 3 4 5 6 7 8 9] [ 0  1  4  9 16 25 36 49 64 81] [ 1  3  5  7  9 11 13 15 17 19]\n"
                                                  ]
                                        }
                              ],
                              "source": [
                                        "x = np.arange(10)\n",
                                        "y1 = x**2\n",
                                        "y2 = 2 * x + 1\n",
                                        "print(x, y1, y2)"
                              ]
                    },
                    {
                              "cell_type": "code",
                              "execution_count": 4,
                              "metadata": {},
                              "outputs": [],
                              "source": [
                                        "plt.style.use(\"dark_background\")"
                              ]
                    },
                    {
                              "cell_type": "code",
                              "execution_count": 5,
                              "metadata": {},
                              "outputs": [
                                        {
                                                  "data": {
                                                            "image/png": "[encoded data removed]",
                                                            "text/plain": [
                                                                      "<Figure size 432x288 with 1 Axes>"
                                                            ]
                                                  },
                                                  "metadata": {},
                                                  "output_type": "display_data"
                                        }
                              ],
                              "source": [
                                        "plt.plot(x, y1, color=\"blue\", label=\"rice\", marker=\"o\")\n",
                                        "# plt.show()\n",
                                        "plt.plot(x, y2, color=\"green\", label=\"sugar\", linestyle=\"dashed\")\n",
                                        "plt.xlabel(\"Price\")\n",
                                        "plt.ylabel(\"Time\")\n",
                                        "plt.title(\"Prices over time\")\n",
                                        "plt.legend()  # yahi to badshah hain\n",
                                        "plt.show()"
                              ]
                    },
                    {
                              "cell_type": "code",
                              "execution_count": 6,
                              "metadata": {},
                              "outputs": [
                                        {
                                                  "name": "stdout",
                                                  "output_type": "stream",
                                                  "text": [
                                                            "\u001b[1;31mSignature:\u001b[0m \u001b[0mplt\u001b[0m\u001b[1;33m.\u001b[0m\u001b[0mplot\u001b[0m\u001b[1;33m(\u001b[0m\u001b[1;33m*\u001b[0m\u001b[0margs\u001b[0m\u001b[1;33m,\u001b[0m \u001b[0mscalex\u001b[0m\u001b[1;33m=\u001b[0m\u001b[1;32mTrue\u001b[0m\u001b[1;33m,\u001b[0m \u001b[0mscaley\u001b[0m\u001b[1;33m=\u001b[0m\u001b[1;32mTrue\u001b[0m\u001b[1;33m,\u001b[0m \u001b[0mdata\u001b[0m\u001b[1;33m=\u001b[0m\u001b[1;32mNone\u001b[0m\u001b[1;33m,\u001b[0m \u001b[1;33m**\u001b[0m\u001b[0mkwargs\u001b[0m\u001b[1;33m)\u001b[0m\u001b[1;33m\u001b[0m\u001b[1;33m\u001b[0m\u001b[0m\n",
                                                            "\u001b[1;31mDocstring:\u001b[0m\n",
                                                            "Plot y versus x as lines and/or markers.\n",
                                                            "\n",
                                                            "Call signatures::\n",
                                                            "\n",
                                                            "    plot([x], y, [fmt], *, data=None, **kwargs)\n",
                                                            "    plot([x], y, [fmt], [x2], y2, [fmt2], ..., **kwargs)\n",
                                                            "\n",
                                                            "The coordinates of the points or line nodes are given by *x*, *y*.\n",
                                                            "\n",
                                                            "The optional parameter *fmt* is a convenient way for defining basic\n",
                                                            "formatting like color, marker and linestyle. It's a shortcut string\n",
                                                            "notation described in the *Notes* section below.\n",
                                                            "\n",
                                                            ">>> plot(x, y)        # plot x and y using default line style and color\n",
                                                            ">>> plot(x, y, 'bo')  # plot x and y using blue circle markers\n",
                                                            ">>> plot(y)           # plot y using x as index array 0..N-1\n",
                                                            ">>> plot(y, 'r+')     # ditto, but with red plusses\n",
                                                            "\n",
                                                            "You can use `.Line2D` properties as keyword arguments for more\n",
                                                            "control on the appearance. Line properties and *fmt* can be mixed.\n",
                                                            "The following two calls yield identical results:\n",
                                                            "\n",
                                                            ">>> plot(x, y, 'go--', linewidth=2, markersize=12)\n",
                                                            ">>> plot(x, y, color='green', marker='o', linestyle='dashed',\n",
                                                            "...      linewidth=2, markersize=12)\n",
                                                            "\n",
                                                            "When conflicting with *fmt*, keyword arguments take precedence.\n",
                                                            "\n",
                                                            "\n",
                                                            "**Plotting labelled data**\n",
                                                            "\n",
                                                            "There's a convenient way for plotting objects with labelled data (i.e.\n",
                                                            "data that can be accessed by index ``obj['y']``). Instead of giving\n",
                                                            "the data in *x* and *y*, you can provide the object in the *data*\n",
                                                            "parameter and just give the labels for *x* and *y*::\n",
                                                            "\n",
                                                            ">>> plot('xlabel', 'ylabel', data=obj)\n",
                                                            "\n",
                                                            "All indexable objects are supported. This could e.g. be a `dict`, a\n",
                                                            "`pandas.DataFrame` or a structured numpy array.\n",
                                                            "\n",
                                                            "\n",
                                                            "**Plotting multiple sets of data**\n",
                                                            "\n",
                                                            "There are various ways to plot multiple sets of data.\n",
                                                            "\n",
                                                            "- The most straight forward way is just to call `plot` multiple times.\n",
                                                            "  Example:\n",
                                                            "\n",
                                                            "  >>> plot(x1, y1, 'bo')\n",
                                                            "  >>> plot(x2, y2, 'go')\n",
                                                            "\n",
                                                            "- If *x* and/or *y* are 2D arrays a separate data set will be drawn\n",
                                                            "  for every column. If both *x* and *y* are 2D, they must have the\n",
                                                            "  same shape. If only one of them is 2D with shape (N, m) the other\n",
                                                            "  must have length N and will be used for every data set m.\n",
                                                            "\n",
                                                            "  Example:\n",
                                                            "\n",
                                                            "  >>> x = [1, 2, 3]\n",
                                                            "  >>> y = np.array([[1, 2], [3, 4], [5, 6]])\n",
                                                            "  >>> plot(x, y)\n",
                                                            "\n",
                                                            "  is equivalent to:\n",
                                                            "\n",
                                                            "  >>> for col in range(y.shape[1]):\n",
                                                            "  ...     plot(x, y[:, col])\n",
                                                            "\n",
                                                            "- The third way is to specify multiple sets of *[x]*, *y*, *[fmt]*\n",
                                                            "  groups::\n",
                                                            "\n",
                                                            "  >>> plot(x1, y1, 'g^', x2, y2, 'g-')\n",
                                                            "\n",
                                                            "  In this case, any additional keyword argument applies to all\n",
                                                            "  datasets. Also this syntax cannot be combined with the *data*\n",
                                                            "  parameter.\n",
                                                            "\n",
                                                            "By default, each line is assigned a different style specified by a\n",
                                                            "'style cycle'. The *fmt* and line property parameters are only\n",
                                                            "necessary if you want explicit deviations from these defaults.\n",
                                                            "Alternatively, you can also change the style cycle using\n",
                                                            ":rc:`axes.prop_cycle`.\n",
                                                            "\n",
                                                            "\n",
                                                            "Parameters\n",
                                                            "----------\n",
                                                            "x, y : array-like or scalar\n",
                                                            "    The horizontal / vertical coordinates of the data points.\n",
                                                            "    *x* values are optional and default to ``range(len(y))``.\n",
                                                            "\n",
                                                            "    Commonly, these parameters are 1D arrays.\n",
                                                            "\n",
                                                            "    They can also be scalars, or two-dimensional (in that case, the\n",
                                                            "    columns represent separate data sets).\n",
                                                            "\n",
                                                            "    These arguments cannot be passed as keywords.\n",
                                                            "\n",
                                                            "fmt : str, optional\n",
                                                            "    A format string, e.g. 'ro' for red circles. See the *Notes*\n",
                                                            "    section for a full description of the format strings.\n",
                                                            "\n",
                                                            "    Format strings are just an abbreviation for quickly setting\n",
                                                            "    basic line properties. All of these and more can also be\n",
                                                            "    controlled by keyword arguments.\n",
                                                            "\n",
                                                            "    This argument cannot be passed as keyword.\n",
                                                            "\n",
                                                            "data : indexable object, optional\n",
                                                            "    An object with labelled data. If given, provide the label names to\n",
                                                            "    plot in *x* and *y*.\n",
                                                            "\n",
                                                            "    .. note::\n",
                                                            "        Technically there's a slight ambiguity in calls where the\n",
                                                            "        second label is a valid *fmt*. ``plot('n', 'o', data=obj)``\n",
                                                            "        could be ``plt(x, y)`` or ``plt(y, fmt)``. In such cases,\n",
                                                            "        the former interpretation is chosen, but a warning is issued.\n",
                                                            "        You may suppress the warning by adding an empty format string\n",
                                                            "        ``plot('n', 'o', '', data=obj)``.\n",
                                                            "\n",
                                                            "Returns\n",
                                                            "-------\n",
                                                            "list of `.Line2D`\n",
                                                            "    A list of lines representing the plotted data.\n",
                                                            "\n",
                                                            "Other Parameters\n",
                                                            "----------------\n",
                                                            "scalex, scaley : bool, default: True\n",
                                                            "    These parameters determine if the view limits are adapted to the\n",
                                                            "    data limits. The values are passed on to `autoscale_view`.\n",
                                                            "\n",
                                                            "**kwargs : `.Line2D` properties, optional\n",
                                                            "    *kwargs* are used to specify properties like a line label (for\n",
                                                            "    auto legends), linewidth, antialiasing, marker face color.\n",
                                                            "    Example::\n",
                                                            "\n",
                                                            "    >>> plot([1, 2, 3], [1, 2, 3], 'go-', label='line 1', linewidth=2)\n",
                                                            "    >>> plot([1, 2, 3], [1, 4, 9], 'rs', label='line 2')\n",
                                                            "\n",
                                                            "    If you specify multiple lines with one plot call, the kwargs apply\n",
                                                            "    to all those lines. In case the label object is iterable, each\n",
                                                            "    element is used as labels for each set of data.\n",
                                                            "\n",
                                                            "    Here is a list of available `.Line2D` properties:\n",
                                                            "\n",
                                                            "    Properties:\n",
                                                            "    agg_filter: a filter function, which takes a (m, n, 3) float array and a dpi value, and returns a (m, n, 3) array\n",
                                                            "    alpha: scalar or None\n",
                                                            "    animated: bool\n",
                                                            "    antialiased or aa: bool\n",
                                                            "    clip_box: `.Bbox`\n",
                                                            "    clip_on: bool\n",
                                                            "    clip_path: Patch or (Path, Transform) or None\n",
                                                            "    color or c: color\n",
                                                            "    dash_capstyle: `.CapStyle` or {'butt', 'projecting', 'round'}\n",
                                                            "    dash_joinstyle: `.JoinStyle` or {'miter', 'round', 'bevel'}\n",
                                                            "    dashes: sequence of floats (on/off ink in points) or (None, None)\n",
                                                            "    data: (2, N) array or two 1D arrays\n",
                                                            "    drawstyle or ds: {'default', 'steps', 'steps-pre', 'steps-mid', 'steps-post'}, default: 'default'\n",
                                                            "    figure: `.Figure`\n",
                                                            "    fillstyle: {'full', 'left', 'right', 'bottom', 'top', 'none'}\n",
                                                            "    gid: str\n",
                                                            "    in_layout: bool\n",
                                                            "    label: object\n",
                                                            "    linestyle or ls: {'-', '--', '-.', ':', '', (offset, on-off-seq), ...}\n",
                                                            "    linewidth or lw: float\n",
                                                            "    marker: marker style string, `~.path.Path` or `~.markers.MarkerStyle`\n",
                                                            "    markeredgecolor or mec: color\n",
                                                            "    markeredgewidth or mew: float\n",
                                                            "    markerfacecolor or mfc: color\n",
                                                            "    markerfacecoloralt or mfcalt: color\n",
                                                            "    markersize or ms: float\n",
                                                            "    markevery: None or int or (int, int) or slice or list[int] or float or (float, float) or list[bool]\n",
                                                            "    path_effects: `.AbstractPathEffect`\n",
                                                            "    picker: float or callable[[Artist, Event], tuple[bool, dict]]\n",
                                                            "    pickradius: float\n",
                                                            "    rasterized: bool\n",
                                                            "    sketch_params: (scale: float, length: float, randomness: float)\n",
                                                            "    snap: bool or None\n",
                                                            "    solid_capstyle: `.CapStyle` or {'butt', 'projecting', 'round'}\n",
                                                            "    solid_joinstyle: `.JoinStyle` or {'miter', 'round', 'bevel'}\n",
                                                            "    transform: unknown\n",
                                                            "    url: str\n",
                                                            "    visible: bool\n",
                                                            "    xdata: 1D array\n",
                                                            "    ydata: 1D array\n",
                                                            "    zorder: float\n",
                                                            "\n",
                                                            "See Also\n",
                                                            "--------\n",
                                                            "scatter : XY scatter plot with markers of varying size and/or color (\n",
                                                            "    sometimes also called bubble chart).\n",
                                                            "\n",
                                                            "Notes\n",
                                                            "-----\n",
                                                            "**Format Strings**\n",
                                                            "\n",
                                                            "A format string consists of a part for color, marker and line::\n",
                                                            "\n",
                                                            "    fmt = '[marker][line][color]'\n",
                                                            "\n",
                                                            "Each of them is optional. If not provided, the value from the style\n",
                                                            "cycle is used. Exception: If ``line`` is given, but no ``marker``,\n",
                                                            "the data will be a line without markers.\n",
                                                            "\n",
                                                            "Other combinations such as ``[color][marker][line]`` are also\n",
                                                            "supported, but note that their parsing may be ambiguous.\n",
                                                            "\n",
                                                            "**Markers**\n",
                                                            "\n",
                                                            "=============   ===============================\n",
                                                            "character       description\n",
                                                            "=============   ===============================\n",
                                                            "``'.'``         point marker\n",
                                                            "``','``         pixel marker\n",
                                                            "``'o'``         circle marker\n",
                                                            "``'v'``         triangle_down marker\n",
                                                            "``'^'``         triangle_up marker\n",
                                                            "``'<'``         triangle_left marker\n",
                                                            "``'>'``         triangle_right marker\n",
                                                            "``'1'``         tri_down marker\n",
                                                            "``'2'``         tri_up marker\n",
                                                            "``'3'``         tri_left marker\n",
                                                            "``'4'``         tri_right marker\n",
                                                            "``'8'``         octagon marker\n",
                                                            "``'s'``         square marker\n",
                                                            "``'p'``         pentagon marker\n",
                                                            "``'P'``         plus (filled) marker\n",
                                                            "``'*'``         star marker\n",
                                                            "``'h'``         hexagon1 marker\n",
                                                            "``'H'``         hexagon2 marker\n",
                                                            "``'+'``         plus marker\n",
                                                            "``'x'``         x marker\n",
                                                            "``'X'``         x (filled) marker\n",
                                                            "``'D'``         diamond marker\n",
                                                            "``'d'``         thin_diamond marker\n",
                                                            "``'|'``         vline marker\n",
                                                            "``'_'``         hline marker\n",
                                                            "=============   ===============================\n",
                                                            "\n",
                                                            "**Line Styles**\n",
                                                            "\n",
                                                            "=============    ===============================\n",
                                                            "character        description\n",
                                                            "=============    ===============================\n",
                                                            "``'-'``          solid line style\n",
                                                            "``'--'``         dashed line style\n",
                                                            "``'-.'``         dash-dot line style\n",
                                                            "``':'``          dotted line style\n",
                                                            "=============    ===============================\n",
                                                            "\n",
                                                            "Example format strings::\n",
                                                            "\n",
                                                            "    'b'    # blue markers with default shape\n",
                                                            "    'or'   # red circles\n",
                                                            "    '-g'   # green solid line\n",
                                                            "    '--'   # dashed line with default color\n",
                                                            "    '^k:'  # black triangle_up markers connected by a dotted line\n",
                                                            "\n",
                                                            "**Colors**\n",
                                                            "\n",
                                                            "The supported color abbreviations are the single letter codes\n",
                                                            "\n",
                                                            "=============    ===============================\n",
                                                            "character        color\n",
                                                            "=============    ===============================\n",
                                                            "``'b'``          blue\n",
                                                            "``'g'``          green\n",
                                                            "``'r'``          red\n",
                                                            "``'c'``          cyan\n",
                                                            "``'m'``          magenta\n",
                                                            "``'y'``          yellow\n",
                                                            "``'k'``          black\n",
                                                            "``'w'``          white\n",
                                                            "=============    ===============================\n",
                                                            "\n",
                                                            "and the ``'CN'`` colors that index into the default property cycle.\n",
                                                            "\n",
                                                            "If the color is the only part of the format string, you can\n",
                                                            "additionally use any  `matplotlib.colors` spec, e.g. full names\n",
                                                            "(``'green'``) or hex strings (``'#008000'``).\n",
                                                            "\u001b[1;31mFile:\u001b[0m      c:\\programdata\\anaconda3\\lib\\site-packages\\matplotlib\\pyplot.py\n",
                                                            "\u001b[1;31mType:\u001b[0m      function\n"
                                                  ]
                                        }
                              ],
                              "source": [
                                        "plt.plot?\n"
                              ]
                    },
                    {
                              "cell_type": "code",
                              "execution_count": 7,
                              "metadata": {},
                              "outputs": [
                                        {
                                                  "name": "stdout",
                                                  "output_type": "stream",
                                                  "text": [
                                                            "[ 1  4  9 16 25]\n"
                                                  ]
                                        },
                                        {
                                                  "data": {
                                                            "text/plain": [
                                                                      "[<matplotlib.lines.Line2D at 0x2736bd9ce50>]"
                                                            ]
                                                  },
                                                  "execution_count": 7,
                                                  "metadata": {},
                                                  "output_type": "execute_result"
                                        },
                                        {
                                                  "data": {
                                                            "image/png": "[encoded data removed]",
                                                            "text/plain": [
                                                                      "<Figure size 432x288 with 1 Axes>"
                                                            ]
                                                  },
                                                  "metadata": {},
                                                  "output_type": "display_data"
                                        }
                              ],
                              "source": [
                                        "prices = np.array([1, 2, 3, 4, 5]) ** 2\n",
                                        "print(prices)\n",
                                        "plt.plot(prices)"
                              ]
                    },
                    {
                              "cell_type": "markdown",
                              "metadata": {},
                              "source": [
                                        "## Scatterplot"
                              ]
                    },
                    {
                              "cell_type": "code",
                              "execution_count": 8,
                              "metadata": {},
                              "outputs": [
                                        {
                                                  "data": {
                                                            "text/plain": [
                                                                      "<matplotlib.collections.PathCollection at 0x2736be13820>"
                                                            ]
                                                  },
                                                  "execution_count": 8,
                                                  "metadata": {},
                                                  "output_type": "execute_result"
                                        },
                                        {
                                                  "data": {
                                                            "image/png": "[encoded data removed]",
                                                            "text/plain": [
                                                                      "<Figure size 360x360 with 1 Axes>"
                                                            ]
                                                  },
                                                  "metadata": {},
                                                  "output_type": "display_data"
                                        }
                              ],
                              "source": [
                                        "plt.figure(figsize=(5, 5))\n",
                                        "plt.scatter(x, y1)\n",
                                        "plt.scatter(x, y2, marker=\"*\")"
                              ]
                    },
                    {
                              "attachments": {},
                              "cell_type": "markdown",
                              "metadata": {},
                              "source": [
                                        "## Bar Graph"
                              ]
                    },
                    {
                              "cell_type": "code",
                              "execution_count": 9,
                              "metadata": {},
                              "outputs": [],
                              "source": [
                                        "# plt.bar?\n",
                                        "# plt.style.use(\"seaborn\")"
                              ]
                    },
                    {
                              "cell_type": "code",
                              "execution_count": 10,
                              "metadata": {},
                              "outputs": [
                                        {
                                                  "data": {
                                                            "text/plain": [
                                                                      "<BarContainer object of 3 artists>"
                                                            ]
                                                  },
                                                  "execution_count": 10,
                                                  "metadata": {},
                                                  "output_type": "execute_result"
                                        },
                                        {
                                                  "data": {
                                                            "image/png": "[encoded data removed]",
                                                            "text/plain": [
                                                                      "<Figure size 432x288 with 1 Axes>"
                                                            ]
                                                  },
                                                  "metadata": {},
                                                  "output_type": "display_data"
                                        }
                              ],
                              "source": [
                                        "plt.bar([1, 2, 3], [14, 30, 15])  # curr\n",
                                        "plt.bar([1, 2, 3], [10, 25, 20])  # next"
                              ]
                    },
                    {
                              "cell_type": "code",
                              "execution_count": 11,
                              "metadata": {},
                              "outputs": [
                                        {
                                                  "data": {
                                                            "text/plain": [
                                                                      "(0.0, 40.0)"
                                                            ]
                                                  },
                                                  "execution_count": 11,
                                                  "metadata": {},
                                                  "output_type": "execute_result"
                                        },
                                        {
                                                  "data": {
                                                            "image/png": "[encoded data removed]",
                                                            "text/plain": [
                                                                      "<Figure size 432x288 with 1 Axes>"
                                                            ]
                                                  },
                                                  "metadata": {},
                                                  "output_type": "display_data"
                                        }
                              ],
                              "source": [
                                        "xcor = np.array([1, 2, 3]) * 2\n",
                                        "plt.title(\"Metals\")\n",
                                        "plt.bar(\n",
                                        "    xcor,\n",
                                        "    [14, 30, 15],\n",
                                        "    width=0.5,\n",
                                        "    label=\"currrent year\",\n",
                                        "    tick_label=[\"gold\", \"silver\", \"platinum\"],\n",
                                        "    color=\"green\",\n",
                                        ")  # curr\n",
                                        "plt.bar(xcor + 0.5, [10, 25, 20], width=0.5, label=\"next year\", color=\"red\")  # next\n",
                                        "# plt.xlim()\n",
                                        "plt.ylim(0, 40)"
                              ]
                    },
                    {
                              "attachments": {},
                              "cell_type": "markdown",
                              "metadata": {},
                              "source": [
                                        "## Pie"
                              ]
                    },
                    {
                              "cell_type": "code",
                              "execution_count": 12,
                              "metadata": {},
                              "outputs": [],
                              "source": [
                                        "# plt.pie?\n",
                                        "plt.style.use(\"seaborn\")"
                              ]
                    },
                    {
                              "cell_type": "code",
                              "execution_count": 13,
                              "metadata": {},
                              "outputs": [
                                        {
                                                  "data": {
                                                            "image/png": "[encoded data removed]",
                                                            "text/plain": [
                                                                      "<Figure size 576x396 with 1 Axes>"
                                                            ]
                                                  },
                                                  "metadata": {},
                                                  "output_type": "display_data"
                                        }
                              ],
                              "source": [
                                        "subjects = \"physics\", \"chemistry\", \"maths\"\n",
                                        "wts = 50, 50, 100\n",
                                        "plt.pie(wts, labels=subjects, explode=[0, 0, 1], autopct=\"%1.1f%%\", shadow=True)\n",
                                        "\n",
                                        "plt.show()"
                              ]
                    },
                    {
                              "attachments": {},
                              "cell_type": "markdown",
                              "metadata": {},
                              "source": [
                                        "## Histogram"
                              ]
                    },
                    {
                              "cell_type": "code",
                              "execution_count": 25,
                              "metadata": {},
                              "outputs": [],
                              "source": [
                                        "Xsn = np.random.randn(100)\n",
                                        "sigma = 8\n",
                                        "u = 70\n",
                                        "X = Xsn * sigma + u\n",
                                        "Xsn = np.random.randn(100)\n",
                                        "sigma = 5\n",
                                        "u = 40\n",
                                        "X2 = Xsn * sigma + u"
                              ]
                    },
                    {
                              "cell_type": "code",
                              "execution_count": 34,
                              "metadata": {},
                              "outputs": [
                                        {
                                                  "data": {
                                                            "text/plain": [
                                                                      "<matplotlib.legend.Legend at 0x2736deaa9a0>"
                                                            ]
                                                  },
                                                  "execution_count": 34,
                                                  "metadata": {},
                                                  "output_type": "execute_result"
                                        },
                                        {
                                                  "data": {
                                                            "image/png": "[encoded data removed]",
                                                            "text/plain": [
                                                                      "<Figure size 576x396 with 1 Axes>"
                                                            ]
                                                  },
                                                  "metadata": {},
                                                  "output_type": "display_data"
                                        }
                              ],
                              "source": [
                                        "plt.hist(x=X, alpha=0.5, label=\"science\")\n",
                                        "plt.hist(x=X2, alpha=0.9, label=\"maths\")\n",
                                        "plt.title(\"Histogram\")\n",
                                        "plt.xlabel(\"Marks\")\n",
                                        "plt.ylabel(\"Students\")\n",
                                        "plt.legend()"
                              ]
                    },
                    {
                              "cell_type": "code",
                              "execution_count": 35,
                              "metadata": {},
                              "outputs": [
                                        {
                                                  "data": {
                                                            "text/plain": [
                                                                      "(array([ 3.,  5.,  3., 10., 20., 19.,  8., 12., 16.,  4.]),\n",
                                                                      " array([50.72015787, 54.12286827, 57.52557866, 60.92828905, 64.33099944,\n",
                                                                      "        67.73370984, 71.13642023, 74.53913062, 77.94184101, 81.34455141,\n",
                                                                      "        84.7472618 ]),\n",
                                                                      " <BarContainer object of 10 artists>)"
                                                            ]
                                                  },
                                                  "execution_count": 35,
                                                  "metadata": {},
                                                  "output_type": "execute_result"
                                        },
                                        {
                                                  "data": {
                                                            "image/png": "[encoded data removed]",
                                                            "text/plain": [
                                                                      "<Figure size 576x396 with 1 Axes>"
                                                            ]
                                                  },
                                                  "metadata": {},
                                                  "output_type": "display_data"
                                        }
                              ],
                              "source": [
                                        "plt.hist(X)"
                              ]
                    }
          ],
          "metadata": {
                    "kernelspec": {
                              "display_name": "base",
                              "language": "python",
                              "name": "python3"
                    },
                    "language_info": {
                              "codemirror_mode": {
                                        "name": "ipython",
                                        "version": 3
                              },
                              "file_extension": ".py",
                              "mimetype": "text/x-python",
                              "name": "python",
                              "nbconvert_exporter": "python",
                              "pygments_lexer": "ipython3",
                              "version": "3.9.12"
                    },
                    "orig_nbformat": 4
          },
          "nbformat": 4,
          "nbformat_minor": 2
}
