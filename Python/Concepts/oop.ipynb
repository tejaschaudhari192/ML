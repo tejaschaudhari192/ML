{
 "cells": [
  {
   "cell_type": "markdown",
   "metadata": {},
   "source": [
    "<h1>OOP implementation</h1>\n",
    "<h3>Inheritance</h3>"
   ]
  },
  {
   "cell_type": "code",
   "execution_count": 1,
   "metadata": {},
   "outputs": [],
   "source": [
    "class schoolMember:\n",
    "\n",
    "    def __init__(self, name, age) -> None:\n",
    "        self.name = name\n",
    "        self.age = age\n",
    "        print(f\"initialized Schoolmember {self.name}\")\n",
    "\n",
    "    def tell(self):\n",
    "        print(f\"name: {self.name}, age: {self.age}\")\n",
    "\n",
    "\n",
    "class Teacher(schoolMember):\n",
    "    def __init__(self, name, age, salary) -> None:\n",
    "        super().__init__(name, age)\n",
    "        self.salary = salary\n",
    "        print(f\"initialized Teacher {self.name}\")\n",
    "\n",
    "    def tell(self):\n",
    "        print(f\"salary: {self.salary}\")\n",
    "\n",
    "\n",
    "class Student(schoolMember):\n",
    "    def __init__(self, name, age, marks) -> None:\n",
    "        super().__init__(name, age)\n",
    "        self.marks = marks\n",
    "        print(f\"initialized Student {self.name}\")\n",
    "\n",
    "    def tell(self):\n",
    "        print(f\"marks: {self.marks}\")\n"
   ]
  },
  {
   "cell_type": "code",
   "execution_count": 7,
   "metadata": {},
   "outputs": [
    {
     "name": "stdout",
     "output_type": "stream",
     "text": [
      "initialized Schoolmember Mai\n",
      "initialized Teacher Mai\n",
      "salary: 30000\n",
      "initialized Schoolmember Sakuta\n",
      "initialized Student Sakuta\n",
      "marks: 78\n"
     ]
    }
   ],
   "source": [
    "senpai = Teacher('Mai', 19, 30000)\n",
    "senpai.tell()\n",
    "junior = Student('Sakuta', 18, 78)\n",
    "junior.tell()\n"
   ]
  },
  {
   "attachments": {},
   "cell_type": "markdown",
   "metadata": {},
   "source": [
    "## method resolution"
   ]
  },
  {
   "cell_type": "code",
   "execution_count": 8,
   "metadata": {},
   "outputs": [],
   "source": [
    "class A:\n",
    "    x = 10\n",
    "    y = 20\n",
    "\n",
    "\n",
    "class B(A):\n",
    "    pass\n",
    "\n",
    "\n",
    "class C(A):\n",
    "    x = 5\n",
    "\n",
    "\n",
    "class D(C):\n",
    "    y = 6\n",
    "\n",
    "\n",
    "class E(B, D):\n",
    "    pass\n"
   ]
  },
  {
   "cell_type": "code",
   "execution_count": 9,
   "metadata": {},
   "outputs": [
    {
     "name": "stdout",
     "output_type": "stream",
     "text": [
      "5\n",
      "6\n"
     ]
    }
   ],
   "source": [
    "obj = E()\n",
    "print(obj.x)\n",
    "print(obj.y)\n"
   ]
  }
 ],
 "metadata": {
  "kernelspec": {
   "display_name": "base",
   "language": "python",
   "name": "python3"
  },
  "language_info": {
   "codemirror_mode": {
    "name": "ipython",
    "version": 3
   },
   "file_extension": ".py",
   "mimetype": "text/x-python",
   "name": "python",
   "nbconvert_exporter": "python",
   "pygments_lexer": "ipython3",
   "version": "3.9.12"
  },
  "orig_nbformat": 4
 },
 "nbformat": 4,
 "nbformat_minor": 2
}
