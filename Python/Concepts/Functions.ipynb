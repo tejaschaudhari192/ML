{
 "cells": [
  {
   "attachments": {},
   "cell_type": "markdown",
   "metadata": {},
   "source": [
    "Local & Global"
   ]
  },
  {
   "cell_type": "code",
   "execution_count": 20,
   "metadata": {},
   "outputs": [],
   "source": [
    "x = 2\n",
    "\n",
    "def show():\n",
    "    x += 2\n",
    "    print(x)\n"
   ]
  },
  {
   "cell_type": "code",
   "execution_count": 22,
   "metadata": {},
   "outputs": [
    {
     "name": "stdout",
     "output_type": "stream",
     "text": [
      "under show : "
     ]
    },
    {
     "ename": "UnboundLocalError",
     "evalue": "local variable 'x' referenced before assignment",
     "output_type": "error",
     "traceback": [
      "\u001b[1;31m---------------------------------------------------------------------------\u001b[0m",
      "\u001b[1;31mUnboundLocalError\u001b[0m                         Traceback (most recent call last)",
      "\u001b[1;32mc:\\programming\\DS [CB]\\Python\\Concepts\\Functions.ipynb Cell 3\u001b[0m in \u001b[0;36m<cell line: 2>\u001b[1;34m()\u001b[0m\n\u001b[0;32m      <a href='vscode-notebook-cell:/c%3A/programming/DS%20%5BCB%5D/Python/Concepts/Functions.ipynb#W3sZmlsZQ%3D%3D?line=0'>1</a>\u001b[0m \u001b[39mprint\u001b[39m(\u001b[39m\"\u001b[39m\u001b[39munder show :\u001b[39m\u001b[39m\"\u001b[39m, end\u001b[39m=\u001b[39m\u001b[39m\"\u001b[39m\u001b[39m \u001b[39m\u001b[39m\"\u001b[39m)\n\u001b[1;32m----> <a href='vscode-notebook-cell:/c%3A/programming/DS%20%5BCB%5D/Python/Concepts/Functions.ipynb#W3sZmlsZQ%3D%3D?line=1'>2</a>\u001b[0m show()\n\u001b[0;32m      <a href='vscode-notebook-cell:/c%3A/programming/DS%20%5BCB%5D/Python/Concepts/Functions.ipynb#W3sZmlsZQ%3D%3D?line=2'>3</a>\u001b[0m \u001b[39mprint\u001b[39m(\u001b[39m\"\u001b[39m\u001b[39mx :\u001b[39m\u001b[39m\"\u001b[39m, x)\n",
      "\u001b[1;32mc:\\programming\\DS [CB]\\Python\\Concepts\\Functions.ipynb Cell 3\u001b[0m in \u001b[0;36mshow\u001b[1;34m()\u001b[0m\n\u001b[0;32m      <a href='vscode-notebook-cell:/c%3A/programming/DS%20%5BCB%5D/Python/Concepts/Functions.ipynb#W3sZmlsZQ%3D%3D?line=3'>4</a>\u001b[0m \u001b[39mdef\u001b[39;00m \u001b[39mshow\u001b[39m():\n\u001b[1;32m----> <a href='vscode-notebook-cell:/c%3A/programming/DS%20%5BCB%5D/Python/Concepts/Functions.ipynb#W3sZmlsZQ%3D%3D?line=4'>5</a>\u001b[0m     x \u001b[39m+\u001b[39m\u001b[39m=\u001b[39m \u001b[39m2\u001b[39m\n\u001b[0;32m      <a href='vscode-notebook-cell:/c%3A/programming/DS%20%5BCB%5D/Python/Concepts/Functions.ipynb#W3sZmlsZQ%3D%3D?line=5'>6</a>\u001b[0m     \u001b[39mprint\u001b[39m(x)\n",
      "\u001b[1;31mUnboundLocalError\u001b[0m: local variable 'x' referenced before assignment"
     ]
    }
   ],
   "source": [
    "print(\"under show :\", end=\" \")\n",
    "show()\n",
    "print(\"x :\", x)"
   ]
  },
  {
   "cell_type": "code",
   "execution_count": null,
   "metadata": {},
   "outputs": [
    {
     "name": "stdout",
     "output_type": "stream",
     "text": [
      "4\n"
     ]
    }
   ],
   "source": [
    "def explicit():\n",
    "    global x\n",
    "    x += 2\n",
    "    print(x)\n",
    "\n",
    "explicit()"
   ]
  },
  {
   "cell_type": "code",
   "execution_count": 45,
   "metadata": {},
   "outputs": [],
   "source": [
    "# enclosure\n",
    "def outer():\n",
    "    a = 10\n",
    "\n",
    "    def inner():\n",
    "        a += 5\n",
    "\n",
    "    inner()\n",
    "    print(a)\n"
   ]
  },
  {
   "cell_type": "code",
   "execution_count": 44,
   "metadata": {},
   "outputs": [
    {
     "ename": "NameError",
     "evalue": "name 'a' is not defined",
     "output_type": "error",
     "traceback": [
      "\u001b[1;31m---------------------------------------------------------------------------\u001b[0m",
      "\u001b[1;31mNameError\u001b[0m                                 Traceback (most recent call last)",
      "\u001b[1;32mc:\\programming\\DS [CB]\\Python\\Concepts\\Functions.ipynb Cell 6\u001b[0m in \u001b[0;36m<cell line: 1>\u001b[1;34m()\u001b[0m\n\u001b[1;32m----> <a href='vscode-notebook-cell:/c%3A/programming/DS%20%5BCB%5D/Python/Concepts/Functions.ipynb#X10sZmlsZQ%3D%3D?line=0'>1</a>\u001b[0m \u001b[39mdel\u001b[39;00m a\n",
      "\u001b[1;31mNameError\u001b[0m: name 'a' is not defined"
     ]
    }
   ],
   "source": [
    "del a"
   ]
  },
  {
   "cell_type": "code",
   "execution_count": 46,
   "metadata": {},
   "outputs": [
    {
     "ename": "UnboundLocalError",
     "evalue": "local variable 'a' referenced before assignment",
     "output_type": "error",
     "traceback": [
      "\u001b[1;31m---------------------------------------------------------------------------\u001b[0m",
      "\u001b[1;31mUnboundLocalError\u001b[0m                         Traceback (most recent call last)",
      "\u001b[1;32mc:\\programming\\DS [CB]\\Python\\Concepts\\Functions.ipynb Cell 7\u001b[0m in \u001b[0;36m<cell line: 1>\u001b[1;34m()\u001b[0m\n\u001b[1;32m----> <a href='vscode-notebook-cell:/c%3A/programming/DS%20%5BCB%5D/Python/Concepts/Functions.ipynb#W6sZmlsZQ%3D%3D?line=0'>1</a>\u001b[0m outer()\n",
      "\u001b[1;32mc:\\programming\\DS [CB]\\Python\\Concepts\\Functions.ipynb Cell 7\u001b[0m in \u001b[0;36mouter\u001b[1;34m()\u001b[0m\n\u001b[0;32m      <a href='vscode-notebook-cell:/c%3A/programming/DS%20%5BCB%5D/Python/Concepts/Functions.ipynb#W6sZmlsZQ%3D%3D?line=4'>5</a>\u001b[0m \u001b[39mdef\u001b[39;00m \u001b[39minner\u001b[39m():\n\u001b[0;32m      <a href='vscode-notebook-cell:/c%3A/programming/DS%20%5BCB%5D/Python/Concepts/Functions.ipynb#W6sZmlsZQ%3D%3D?line=5'>6</a>\u001b[0m     a \u001b[39m+\u001b[39m\u001b[39m=\u001b[39m \u001b[39m5\u001b[39m\n\u001b[1;32m----> <a href='vscode-notebook-cell:/c%3A/programming/DS%20%5BCB%5D/Python/Concepts/Functions.ipynb#W6sZmlsZQ%3D%3D?line=7'>8</a>\u001b[0m inner()\n\u001b[0;32m      <a href='vscode-notebook-cell:/c%3A/programming/DS%20%5BCB%5D/Python/Concepts/Functions.ipynb#W6sZmlsZQ%3D%3D?line=8'>9</a>\u001b[0m \u001b[39mprint\u001b[39m(a)\n",
      "\u001b[1;32mc:\\programming\\DS [CB]\\Python\\Concepts\\Functions.ipynb Cell 7\u001b[0m in \u001b[0;36mouter.<locals>.inner\u001b[1;34m()\u001b[0m\n\u001b[0;32m      <a href='vscode-notebook-cell:/c%3A/programming/DS%20%5BCB%5D/Python/Concepts/Functions.ipynb#W6sZmlsZQ%3D%3D?line=4'>5</a>\u001b[0m \u001b[39mdef\u001b[39;00m \u001b[39minner\u001b[39m():\n\u001b[1;32m----> <a href='vscode-notebook-cell:/c%3A/programming/DS%20%5BCB%5D/Python/Concepts/Functions.ipynb#W6sZmlsZQ%3D%3D?line=5'>6</a>\u001b[0m     a \u001b[39m+\u001b[39m\u001b[39m=\u001b[39m \u001b[39m5\u001b[39m\n",
      "\u001b[1;31mUnboundLocalError\u001b[0m: local variable 'a' referenced before assignment"
     ]
    }
   ],
   "source": [
    "outer()"
   ]
  },
  {
   "attachments": {},
   "cell_type": "markdown",
   "metadata": {},
   "source": [
    "Packing args"
   ]
  },
  {
   "cell_type": "code",
   "execution_count": 39,
   "metadata": {},
   "outputs": [],
   "source": [
    "def arg_fun(a, b, *x, **y):\n",
    "    print(a)\n",
    "    print(b)\n",
    "    print(x, type(x))\n",
    "    print(y, type(y))\n",
    "    for i in y:\n",
    "        print(y[i])\n"
   ]
  },
  {
   "cell_type": "code",
   "execution_count": 40,
   "metadata": {},
   "outputs": [
    {
     "name": "stdout",
     "output_type": "stream",
     "text": [
      "1\n",
      "2\n",
      "(3, 4, 5) <class 'tuple'>\n",
      "{'z': 'midoria', 'y': 'todoroki'} <class 'dict'>\n",
      "midoria\n",
      "todoroki\n"
     ]
    }
   ],
   "source": [
    "arg_fun(1, 2, 3, 4, 5, z='midoria', y='todoroki')\n"
   ]
  },
  {
   "cell_type": "code",
   "execution_count": 48,
   "metadata": {},
   "outputs": [
    {
     "name": "stdout",
     "output_type": "stream",
     "text": [
      "inosuke,zenitsu,nezuko\n"
     ]
    }
   ],
   "source": [
    "print(\"inosuke\", \"zenitsu\", \"nezuko\", sep=\",\")\n"
   ]
  },
  {
   "cell_type": "code",
   "execution_count": 49,
   "metadata": {},
   "outputs": [],
   "source": [
    "def printf(*args, sep=\" \"):\n",
    "    for i in args:\n",
    "        print(i, end=sep)"
   ]
  },
  {
   "cell_type": "code",
   "execution_count": 52,
   "metadata": {},
   "outputs": [
    {
     "name": "stdout",
     "output_type": "stream",
     "text": [
      "armin, eren, sasha, "
     ]
    }
   ],
   "source": [
    "printf(\"armin\", \"eren\", \"sasha\", sep=\", \")\n"
   ]
  },
  {
   "cell_type": "code",
   "execution_count": 63,
   "metadata": {},
   "outputs": [
    {
     "name": "stdout",
     "output_type": "stream",
     "text": [
      "('light', 'kira')\n",
      "23\n",
      "()\n",
      "23\n"
     ]
    }
   ],
   "source": [
    "def abc(a, b, c, *args, d=10):\n",
    "    print(args)\n",
    "    print(d)\n",
    "\n",
    "\n",
    "abc(1, 2, 3, \"light\", \"kira\", d=23)\n",
    "abc(1, 2, 3, d=23)"
   ]
  },
  {
   "cell_type": "code",
   "execution_count": null,
   "metadata": {},
   "outputs": [],
   "source": [
    "# good practice\n",
    "def standard(a,b,c,*args,d=10,e=True,**kwargs):\n",
    "    pass"
   ]
  },
  {
   "attachments": {},
   "cell_type": "markdown",
   "metadata": {},
   "source": [
    "Lambda functions"
   ]
  },
  {
   "cell_type": "code",
   "execution_count": 6,
   "metadata": {},
   "outputs": [
    {
     "data": {
      "text/plain": [
       "[('baka', 4), ('emilia', 3), ('ram', 1), ('rem', 2)]"
      ]
     },
     "execution_count": 6,
     "metadata": {},
     "output_type": "execute_result"
    }
   ],
   "source": [
    "emp = [('rem', 2), ('ram', 1), ('emilia', 3), ('baka', 4)]\n",
    "\n",
    "sorted(emp)"
   ]
  },
  {
   "cell_type": "code",
   "execution_count": 8,
   "metadata": {},
   "outputs": [
    {
     "data": {
      "text/plain": [
       "[('ram', 1), ('rem', 2), ('emilia', 3), ('baka', 4)]"
      ]
     },
     "execution_count": 8,
     "metadata": {},
     "output_type": "execute_result"
    }
   ],
   "source": [
    "sorted(emp, key=lambda x: x[1])\n"
   ]
  },
  {
   "attachments": {},
   "cell_type": "markdown",
   "metadata": {},
   "source": [
    "Decorators"
   ]
  },
  {
   "cell_type": "code",
   "execution_count": null,
   "metadata": {},
   "outputs": [],
   "source": [
    "def add(a,b):\n",
    "    return a+b"
   ]
  },
  {
   "cell_type": "code",
   "execution_count": 28,
   "metadata": {},
   "outputs": [],
   "source": [
    "users = {\n",
    "    'demon': 'slayer',\n",
    "    'madara': 'uchiha',\n",
    "    'naruto': 'uzumaki'\n",
    "\n",
    "}\n",
    "\n",
    "\n",
    "def login(func):\n",
    "    def wrapper(id, key, *args, **kwargs):\n",
    "        if id in users and users[id] == key:\n",
    "            func(*args, **kwargs)\n",
    "        else:\n",
    "            print(\"not auth\")\n",
    "    return wrapper\n"
   ]
  },
  {
   "cell_type": "code",
   "execution_count": 23,
   "metadata": {},
   "outputs": [
    {
     "name": "stdout",
     "output_type": "stream",
     "text": [
      "3\n",
      "3\n"
     ]
    }
   ],
   "source": [
    "def add(a, b):\n",
    "    print(a+b)\n",
    "    return a+b\n",
    "\n",
    "\n",
    "print(add(1, 2))\n"
   ]
  },
  {
   "cell_type": "code",
   "execution_count": 25,
   "metadata": {},
   "outputs": [
    {
     "name": "stdout",
     "output_type": "stream",
     "text": [
      "3\n"
     ]
    }
   ],
   "source": [
    "auth_add = login(add)\n",
    "x = auth_add('demon', 'slayer', 1, 2)\n"
   ]
  },
  {
   "cell_type": "code",
   "execution_count": 30,
   "metadata": {},
   "outputs": [],
   "source": [
    "@login\n",
    "def sub(a, b):\n",
    "    print(a-b)\n"
   ]
  },
  {
   "cell_type": "code",
   "execution_count": 31,
   "metadata": {},
   "outputs": [
    {
     "name": "stdout",
     "output_type": "stream",
     "text": [
      "1\n"
     ]
    }
   ],
   "source": [
    "sub('naruto', 'uzumaki', 2, 1)\n"
   ]
  }
 ],
 "metadata": {
  "kernelspec": {
   "display_name": "base",
   "language": "python",
   "name": "python3"
  },
  "language_info": {
   "codemirror_mode": {
    "name": "ipython",
    "version": 3
   },
   "file_extension": ".py",
   "mimetype": "text/x-python",
   "name": "python",
   "nbconvert_exporter": "python",
   "pygments_lexer": "ipython3",
   "version": "3.9.12"
  },
  "orig_nbformat": 4
 },
 "nbformat": 4,
 "nbformat_minor": 2
}
